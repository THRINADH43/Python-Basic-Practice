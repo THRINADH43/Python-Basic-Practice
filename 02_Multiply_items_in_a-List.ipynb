{
 "cells": [
  {
   "cell_type": "markdown",
   "id": "b4a42c53",
   "metadata": {},
   "source": [
    "# To add items to a list and to multiply them"
   ]
  },
  {
   "cell_type": "code",
   "execution_count": 10,
   "id": "0667e51b",
   "metadata": {},
   "outputs": [
    {
     "name": "stdout",
     "output_type": "stream",
     "text": [
      "Enter the numbers of items u want to add to the list3\n",
      "Enter the number1\n",
      "Enter the number2\n",
      "Enter the number3\n",
      "6\n"
     ]
    }
   ],
   "source": [
    "list=[]\n",
    "number=int(input(\"Enter the numbers of items u want to add to the list\"))\n",
    "for i in range(number):\n",
    "    number1=int(input(\"Enter the number\"))\n",
    "    list.append(number1)\n",
    "list.sort()\n",
    "result=1\n",
    "for i in range(len((list))):\n",
    "    result=result*list[i]\n",
    "\n",
    "print(result)"
   ]
  },
  {
   "cell_type": "code",
   "execution_count": null,
   "id": "f36ab1c9",
   "metadata": {},
   "outputs": [],
   "source": []
  }
 ],
 "metadata": {
  "kernelspec": {
   "display_name": "Python 3",
   "language": "python",
   "name": "python3"
  },
  "language_info": {
   "codemirror_mode": {
    "name": "ipython",
    "version": 3
   },
   "file_extension": ".py",
   "mimetype": "text/x-python",
   "name": "python",
   "nbconvert_exporter": "python",
   "pygments_lexer": "ipython3",
   "version": "3.8.10"
  }
 },
 "nbformat": 4,
 "nbformat_minor": 5
}
