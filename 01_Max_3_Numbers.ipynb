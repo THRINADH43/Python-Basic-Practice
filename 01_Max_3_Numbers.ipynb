{
 "cells": [
  {
   "cell_type": "code",
   "execution_count": 8,
   "id": "d6df3e69",
   "metadata": {},
   "outputs": [
    {
     "name": "stdout",
     "output_type": "stream",
     "text": [
      "Enter the numbers u want to sort8\n",
      "Enter the number u want to add to the list for sorting4\n",
      "Enter the number u want to add to the list for sorting5\n",
      "Enter the number u want to add to the list for sorting6\n",
      "Enter the number u want to add to the list for sorting7\n",
      "Enter the number u want to add to the list for sorting8\n",
      "Enter the number u want to add to the list for sorting9\n",
      "Enter the number u want to add to the list for sorting4\n",
      "Enter the number u want to add to the list for sorting5\n"
     ]
    },
    {
     "data": {
      "text/plain": [
       "9"
      ]
     },
     "execution_count": 8,
     "metadata": {},
     "output_type": "execute_result"
    }
   ],
   "source": [
    "def max(self,**kwargs):                 #TO find the maximum of given numbers\n",
    "    list=[]\n",
    "    number=int(input(\"Enter the numbers u want to sort\"))\n",
    "    for i in range(number):\n",
    "        number1=int(input(\"Enter the number u want to add to the list for sorting\"))\n",
    "        list.append(number1)\n",
    "    list.sort()\n",
    "    result=list[len(list)-1]\n",
    "    return result\n",
    "max(2)"
   ]
  },
  {
   "cell_type": "code",
   "execution_count": 2,
   "id": "1335f3ea",
   "metadata": {},
   "outputs": [
    {
     "name": "stdout",
     "output_type": "stream",
     "text": [
      "Enter the numbers u want to sort5\n",
      "Enter the number u want to add to list for sorting4\n",
      "Enter the number u want to add to list for sorting5\n",
      "Enter the number u want to add to list for sorting6\n",
      "Enter the number u want to add to list for sorting7\n",
      "Enter the number u want to add to list for sorting8\n"
     ]
    },
    {
     "data": {
      "text/plain": [
       "4"
      ]
     },
     "execution_count": 2,
     "metadata": {},
     "output_type": "execute_result"
    }
   ],
   "source": [
    "def min(self,**kwargs):       #To find the minimum of given numbers\n",
    "    list=[]\n",
    "    number=int(input(\"Enter the numbers u want to sort\"))\n",
    "    for i in range(number):\n",
    "        number1=int(input(\"Enter the number u want to add to list for sorting\"))\n",
    "        list.append(number1)\n",
    "    list.sort()\n",
    "    result=list[0]\n",
    "    return result\n",
    "min(1)"
   ]
  },
  {
   "cell_type": "markdown",
   "id": "6675dee2",
   "metadata": {},
   "source": [
    "# To either find the highest or lowest number in the given list"
   ]
  },
  {
   "cell_type": "code",
   "execution_count": 2,
   "id": "df14365d",
   "metadata": {},
   "outputs": [
    {
     "name": "stdout",
     "output_type": "stream",
     "text": [
      "Enter the kind of operation u want to do Highest or Lowest\n",
      "Highest\n",
      "Enter the number of numbers u want to sort2\n",
      "Enter the numbers u want to add to list for sorting5\n",
      "Enter the numbers u want to add to list for sorting6\n",
      "6\n"
     ]
    }
   ],
   "source": [
    "operation=input(\"Enter the kind of operation u want to do Highest or Lowest\\n\")\n",
    "operation1=operation.lower()\n",
    "list=[]\n",
    "number=int(input(\"Enter the number of numbers u want to sort\"))\n",
    "for i in range(number):\n",
    "    number1=int(input(\"Enter the numbers u want to add to list for sorting\"))\n",
    "    list.append(number1)\n",
    "list.sort()\n",
    "def max(self,**kwargs):\n",
    "    result1=list[len(list)-1]\n",
    "    print(result1)\n",
    "def min(self,**kwargs):\n",
    "    result2=list[0]\n",
    "    print(result2)\n",
    "if operation1==\"highest\":\n",
    "    needed=max(1)\n",
    "elif operation1==\"lowest\":\n",
    "    needed=min(1)\n",
    "\n",
    "    \n",
    "\n",
    "    \n",
    "    "
   ]
  },
  {
   "cell_type": "code",
   "execution_count": null,
   "id": "96622938",
   "metadata": {},
   "outputs": [],
   "source": []
  },
  {
   "cell_type": "code",
   "execution_count": null,
   "id": "de845169",
   "metadata": {},
   "outputs": [],
   "source": []
  }
 ],
 "metadata": {
  "kernelspec": {
   "display_name": "Python 3",
   "language": "python",
   "name": "python3"
  },
  "language_info": {
   "codemirror_mode": {
    "name": "ipython",
    "version": 3
   },
   "file_extension": ".py",
   "mimetype": "text/x-python",
   "name": "python",
   "nbconvert_exporter": "python",
   "pygments_lexer": "ipython3",
   "version": "3.8.10"
  }
 },
 "nbformat": 4,
 "nbformat_minor": 5
}
