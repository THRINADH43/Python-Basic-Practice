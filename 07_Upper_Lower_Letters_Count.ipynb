{
 "cells": [
  {
   "cell_type": "markdown",
   "id": "fe31bf40",
   "metadata": {},
   "source": [
    "# To calculate the number of Lower and Upper case Letters"
   ]
  },
  {
   "cell_type": "code",
   "execution_count": null,
   "id": "a10d6aea",
   "metadata": {},
   "outputs": [],
   "source": [
    "class Count():\n",
    "    data=intput(\"Enter the data\")\n",
    "    list=[]\n",
    "    list.append(data)\n",
    "    def lower():\n",
    "        for i in range(a,z):\n",
    "            for j in range(len(list)):\n",
    "                if list[j]=="
   ]
  }
 ],
 "metadata": {
  "kernelspec": {
   "display_name": "Python 3",
   "language": "python",
   "name": "python3"
  },
  "language_info": {
   "codemirror_mode": {
    "name": "ipython",
    "version": 3
   },
   "file_extension": ".py",
   "mimetype": "text/x-python",
   "name": "python",
   "nbconvert_exporter": "python",
   "pygments_lexer": "ipython3",
   "version": "3.8.10"
  }
 },
 "nbformat": 4,
 "nbformat_minor": 5
}
