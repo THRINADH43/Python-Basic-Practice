{
 "cells": [
  {
   "cell_type": "markdown",
   "id": "97c99de9",
   "metadata": {},
   "source": [
    "# Reverse elements in a string use list,append,take input at a single time"
   ]
  },
  {
   "cell_type": "code",
   "execution_count": null,
   "id": "e45e7ab0",
   "metadata": {},
   "outputs": [],
   "source": [
    "list=[]\n",
    "data=input(\"Enter the data\")\n",
    "list.append(data)\n",
    "reverse_list=list[::-1] # We will not get the correct answer by using this need to change\n",
    "original_list=list\n",
    "print(f\"The original list is {original_list}\")\n",
    "print(f\"The reversed list is {reverse_list}\")"
   ]
  },
  {
   "cell_type": "markdown",
   "id": "3d8e6ea5",
   "metadata": {},
   "source": [
    "# https://www.w3resource.com/python-exercises/python-functions-exercises.php"
   ]
  },
  {
   "cell_type": "code",
   "execution_count": null,
   "id": "594f29e2",
   "metadata": {},
   "outputs": [],
   "source": []
  }
 ],
 "metadata": {
  "kernelspec": {
   "display_name": "Python 3",
   "language": "python",
   "name": "python3"
  },
  "language_info": {
   "codemirror_mode": {
    "name": "ipython",
    "version": 3
   },
   "file_extension": ".py",
   "mimetype": "text/x-python",
   "name": "python",
   "nbconvert_exporter": "python",
   "pygments_lexer": "ipython3",
   "version": "3.8.10"
  }
 },
 "nbformat": 4,
 "nbformat_minor": 5
}
