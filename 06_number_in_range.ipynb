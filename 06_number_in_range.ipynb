{
 "cells": [
  {
   "cell_type": "markdown",
   "id": "ebec8fa9",
   "metadata": {},
   "source": [
    "# Number in Given Range"
   ]
  },
  {
   "cell_type": "code",
   "execution_count": 10,
   "id": "4f3ed445",
   "metadata": {},
   "outputs": [
    {
     "name": "stdout",
     "output_type": "stream",
     "text": [
      "Enter the final number in the list5\n",
      "Enter the number u want to find4\n",
      "[0, 1, 2, 3, 4, 5]\n",
      "The number is found in the list at 4th position\n"
     ]
    }
   ],
   "source": [
    "class Range():\n",
    "    def range():\n",
    "        list=[]\n",
    "        number=int(input(\"Enter the final number in the list\"))\n",
    "        required=int(input(\"Enter the number u want to find\"))\n",
    "        for i in range(number+1):\n",
    "            list.append(i)\n",
    "        list.sort()\n",
    "        print(list)\n",
    "        for i in range(len(list)):\n",
    "            if required==list[i]:\n",
    "                print(f\"The number is found in the list at {i}th position\")\n",
    "    range()\n",
    "            "
   ]
  },
  {
   "cell_type": "code",
   "execution_count": null,
   "id": "09e108b5",
   "metadata": {},
   "outputs": [],
   "source": []
  }
 ],
 "metadata": {
  "kernelspec": {
   "display_name": "Python 3",
   "language": "python",
   "name": "python3"
  },
  "language_info": {
   "codemirror_mode": {
    "name": "ipython",
    "version": 3
   },
   "file_extension": ".py",
   "mimetype": "text/x-python",
   "name": "python",
   "nbconvert_exporter": "python",
   "pygments_lexer": "ipython3",
   "version": "3.8.10"
  }
 },
 "nbformat": 4,
 "nbformat_minor": 5
}
