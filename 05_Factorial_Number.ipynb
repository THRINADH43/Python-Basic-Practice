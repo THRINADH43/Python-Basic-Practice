{
 "cells": [
  {
   "cell_type": "markdown",
   "id": "969acaab",
   "metadata": {},
   "source": [
    "# Factorial Calculation"
   ]
  },
  {
   "cell_type": "code",
   "execution_count": 8,
   "id": "238f541a",
   "metadata": {},
   "outputs": [
    {
     "name": "stdout",
     "output_type": "stream",
     "text": [
      "Enter the number for which you want to find out the factorial\n",
      "8\n",
      "40320\n"
     ]
    }
   ],
   "source": [
    "class Factorial():\n",
    "    def factorial(self,**kwargs):\n",
    "        result=1\n",
    "        number=int(input(\"Enter the number for which you want to find out the factorial\\n\"))\n",
    "        for i in range(1,number+1):\n",
    "            result=result*i\n",
    "        print(result)\n",
    "\n",
    "    factorial(1)"
   ]
  },
  {
   "cell_type": "code",
   "execution_count": null,
   "id": "d94b7dec",
   "metadata": {},
   "outputs": [],
   "source": []
  }
 ],
 "metadata": {
  "kernelspec": {
   "display_name": "Python 3",
   "language": "python",
   "name": "python3"
  },
  "language_info": {
   "codemirror_mode": {
    "name": "ipython",
    "version": 3
   },
   "file_extension": ".py",
   "mimetype": "text/x-python",
   "name": "python",
   "nbconvert_exporter": "python",
   "pygments_lexer": "ipython3",
   "version": "3.8.10"
  }
 },
 "nbformat": 4,
 "nbformat_minor": 5
}
