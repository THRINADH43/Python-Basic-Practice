{
 "cells": [
  {
   "cell_type": "markdown",
   "id": "73b9136d",
   "metadata": {},
   "source": [
    "# To sum the items in a list"
   ]
  },
  {
   "cell_type": "code",
   "execution_count": 4,
   "id": "c4cbc899",
   "metadata": {},
   "outputs": [
    {
     "name": "stdout",
     "output_type": "stream",
     "text": [
      "Enter the number of items u want to add to list5\n",
      "Enter the number1\n",
      "Enter the number2\n",
      "Enter the number3\n",
      "Enter the number4\n",
      "Enter the number5\n",
      "10\n"
     ]
    }
   ],
   "source": [
    "list=[]\n",
    "number=int(input(\"Enter the number of items u want to add to list\"))\n",
    "for i in range(number):\n",
    "    number1=int(input(\"Enter the number\"))\n",
    "    list.append(number1)\n",
    "sum1=0\n",
    "for i in range(len(list)):\n",
    "    sum1=sum1+list[1]\n",
    "\n",
    "print(sum1)\n",
    "    \n"
   ]
  },
  {
   "cell_type": "code",
   "execution_count": null,
   "id": "4ef975f7",
   "metadata": {},
   "outputs": [],
   "source": []
  }
 ],
 "metadata": {
  "kernelspec": {
   "display_name": "Python 3",
   "language": "python",
   "name": "python3"
  },
  "language_info": {
   "codemirror_mode": {
    "name": "ipython",
    "version": 3
   },
   "file_extension": ".py",
   "mimetype": "text/x-python",
   "name": "python",
   "nbconvert_exporter": "python",
   "pygments_lexer": "ipython3",
   "version": "3.8.10"
  }
 },
 "nbformat": 4,
 "nbformat_minor": 5
}
